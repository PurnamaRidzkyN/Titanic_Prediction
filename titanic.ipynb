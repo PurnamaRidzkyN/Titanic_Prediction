{
  "metadata": {
    "kernelspec": {
      "language": "python",
      "display_name": "Python 3",
      "name": "python3"
    },
    "language_info": {
      "name": "python",
      "version": "3.10.13",
      "mimetype": "text/x-python",
      "codemirror_mode": {
        "name": "ipython",
        "version": 3
      },
      "pygments_lexer": "ipython3",
      "nbconvert_exporter": "python",
      "file_extension": ".py"
    },
    "kaggle": {
      "accelerator": "none",
      "dataSources": [
        {
          "sourceId": 3136,
          "databundleVersionId": 26502,
          "sourceType": "competition"
        }
      ],
      "dockerImageVersionId": 30664,
      "isInternetEnabled": false,
      "language": "python",
      "sourceType": "notebook",
      "isGpuEnabled": false
    },
    "colab": {
      "name": "titanic",
      "provenance": [],
      "include_colab_link": true
    }
  },
  "nbformat_minor": 0,
  "nbformat": 4,
  "cells": [
    {
      "cell_type": "markdown",
      "metadata": {
        "id": "view-in-github",
        "colab_type": "text"
      },
      "source": [
        "<a href=\"https://colab.research.google.com/github/PurnamaRidzkyN/Titanic_Prediction/blob/main/titanic.ipynb\" target=\"_parent\"><img src=\"https://colab.research.google.com/assets/colab-badge.svg\" alt=\"Open In Colab\"/></a>"
      ]
    },
    {
      "source": [
        "\n",
        "# IMPORTANT: RUN THIS CELL IN ORDER TO IMPORT YOUR KAGGLE DATA SOURCES\n",
        "# TO THE CORRECT LOCATION (/kaggle/input) IN YOUR NOTEBOOK,\n",
        "# THEN FEEL FREE TO DELETE THIS CELL.\n",
        "# NOTE: THIS NOTEBOOK ENVIRONMENT DIFFERS FROM KAGGLE'S PYTHON\n",
        "# ENVIRONMENT SO THERE MAY BE MISSING LIBRARIES USED BY YOUR\n",
        "# NOTEBOOK.\n",
        "\n",
        "import os\n",
        "import sys\n",
        "from tempfile import NamedTemporaryFile\n",
        "from urllib.request import urlopen\n",
        "from urllib.parse import unquote, urlparse\n",
        "from urllib.error import HTTPError\n",
        "from zipfile import ZipFile\n",
        "import tarfile\n",
        "import shutil\n",
        "\n",
        "CHUNK_SIZE = 40960\n",
        "DATA_SOURCE_MAPPING = 'titanic:https%3A%2F%2Fstorage.googleapis.com%2Fkaggle-competitions-data%2Fkaggle-v2%2F3136%2F26502%2Fbundle%2Farchive.zip%3FX-Goog-Algorithm%3DGOOG4-RSA-SHA256%26X-Goog-Credential%3Dgcp-kaggle-com%2540kaggle-161607.iam.gserviceaccount.com%252F20240703%252Fauto%252Fstorage%252Fgoog4_request%26X-Goog-Date%3D20240703T033959Z%26X-Goog-Expires%3D259200%26X-Goog-SignedHeaders%3Dhost%26X-Goog-Signature%3D38eeb6f2f4040f62a4c851ff69d9853567e0a11102321211f95a24e9dd5a5e8826dfa7ef40d0f1072b59981ac424cb68ffa866f6cb80a891e389e79792854d29a21e3982decb1441d3ca0041e93416455d656b419ac609350f04b03cc9d7a47cc6c0a8bfd88baa67dd48a3003f2a898bb2f264573b1ddff90e8705371dfb10bc111825343d4b9492497fb7553add54034c96da1876d7836755b345a77682599bb8eaf96cb732433f32de9561f897461a9b5290db3680417d3fd55bb7879a15d7efa72f65ce9d19bb3d4f8d15c15039f224f7a6fff4111adecc0bdc56f60ee3f9c684e8b991552ff4900668f0e7b724f05ceae6c70fd12b65f0e5a1a331ad308e'\n",
        "\n",
        "KAGGLE_INPUT_PATH='/kaggle/input'\n",
        "KAGGLE_WORKING_PATH='/kaggle/working'\n",
        "KAGGLE_SYMLINK='kaggle'\n",
        "\n",
        "!umount /kaggle/input/ 2> /dev/null\n",
        "shutil.rmtree('/kaggle/input', ignore_errors=True)\n",
        "os.makedirs(KAGGLE_INPUT_PATH, 0o777, exist_ok=True)\n",
        "os.makedirs(KAGGLE_WORKING_PATH, 0o777, exist_ok=True)\n",
        "\n",
        "try:\n",
        "  os.symlink(KAGGLE_INPUT_PATH, os.path.join(\"..\", 'input'), target_is_directory=True)\n",
        "except FileExistsError:\n",
        "  pass\n",
        "try:\n",
        "  os.symlink(KAGGLE_WORKING_PATH, os.path.join(\"..\", 'working'), target_is_directory=True)\n",
        "except FileExistsError:\n",
        "  pass\n",
        "\n",
        "for data_source_mapping in DATA_SOURCE_MAPPING.split(','):\n",
        "    directory, download_url_encoded = data_source_mapping.split(':')\n",
        "    download_url = unquote(download_url_encoded)\n",
        "    filename = urlparse(download_url).path\n",
        "    destination_path = os.path.join(KAGGLE_INPUT_PATH, directory)\n",
        "    try:\n",
        "        with urlopen(download_url) as fileres, NamedTemporaryFile() as tfile:\n",
        "            total_length = fileres.headers['content-length']\n",
        "            print(f'Downloading {directory}, {total_length} bytes compressed')\n",
        "            dl = 0\n",
        "            data = fileres.read(CHUNK_SIZE)\n",
        "            while len(data) > 0:\n",
        "                dl += len(data)\n",
        "                tfile.write(data)\n",
        "                done = int(50 * dl / int(total_length))\n",
        "                sys.stdout.write(f\"\\r[{'=' * done}{' ' * (50-done)}] {dl} bytes downloaded\")\n",
        "                sys.stdout.flush()\n",
        "                data = fileres.read(CHUNK_SIZE)\n",
        "            if filename.endswith('.zip'):\n",
        "              with ZipFile(tfile) as zfile:\n",
        "                zfile.extractall(destination_path)\n",
        "            else:\n",
        "              with tarfile.open(tfile.name) as tarfile:\n",
        "                tarfile.extractall(destination_path)\n",
        "            print(f'\\nDownloaded and uncompressed: {directory}')\n",
        "    except HTTPError as e:\n",
        "        print(f'Failed to load (likely expired) {download_url} to path {destination_path}')\n",
        "        continue\n",
        "    except OSError as e:\n",
        "        print(f'Failed to load {download_url} to path {destination_path}')\n",
        "        continue\n",
        "\n",
        "print('Data source import complete.')\n"
      ],
      "metadata": {
        "id": "mCKheWQxrYyR"
      },
      "cell_type": "code",
      "outputs": [],
      "execution_count": null
    },
    {
      "cell_type": "code",
      "source": [
        "# This Python 3 environment comes with many helpful analytics libraries installed\n",
        "# It is defined by the kaggle/python Docker image: https://github.com/kaggle/docker-python\n",
        "# For example, here's several helpful packages to load\n",
        "\n",
        "import numpy as np # linear algebra\n",
        "import pandas as pd # data processing, CSV file I/O (e.g. pd.read_csv)\n",
        "\n",
        "# Input data files are available in the read-only \"../input/\" directory\n",
        "# For example, running this (by clicking run or pressing Shift+Enter) will list all files under the input directory\n",
        "\n",
        "import os\n",
        "for dirname, _, filenames in os.walk('/kaggle/input'):\n",
        "    for filename in filenames:\n",
        "        print(os.path.join(dirname, filename))\n",
        "\n",
        "# You can write up to 20GB to the current directory (/kaggle/working/) that gets preserved as output when you create a version using \"Save & Run All\"\n",
        "# You can also write temporary files to /kaggle/temp/, but they won't be saved outside of the current session"
      ],
      "metadata": {
        "_uuid": "2745a735-1458-4cb9-b903-41d36c30a3de",
        "_cell_guid": "bcaefba5-1263-4373-99fd-580720f4f4c5",
        "jupyter": {
          "outputs_hidden": false
        },
        "execution": {
          "iopub.status.busy": "2024-04-21T04:31:01.167144Z",
          "iopub.execute_input": "2024-04-21T04:31:01.167934Z",
          "iopub.status.idle": "2024-04-21T04:31:01.558019Z",
          "shell.execute_reply.started": "2024-04-21T04:31:01.167893Z",
          "shell.execute_reply": "2024-04-21T04:31:01.556983Z"
        },
        "trusted": true,
        "id": "6iuLhtqmrYyW"
      },
      "execution_count": null,
      "outputs": []
    },
    {
      "cell_type": "code",
      "source": [
        "import pandas as pd\n",
        "import seaborn as sns\n",
        "import matplotlib.pyplot as plt\n",
        "import numpy as np"
      ],
      "metadata": {
        "_uuid": "2a8845c1-9bf8-4388-8326-6438dbc0d317",
        "_cell_guid": "ebe304fc-f808-4edc-b4cd-edd40a28a446",
        "jupyter": {
          "outputs_hidden": false
        },
        "execution": {
          "iopub.status.busy": "2024-04-21T04:31:01.559773Z",
          "iopub.execute_input": "2024-04-21T04:31:01.560208Z",
          "iopub.status.idle": "2024-04-21T04:31:02.05372Z",
          "shell.execute_reply.started": "2024-04-21T04:31:01.560179Z",
          "shell.execute_reply": "2024-04-21T04:31:02.052888Z"
        },
        "trusted": true,
        "id": "fTGvQbZLrYyX"
      },
      "execution_count": null,
      "outputs": []
    },
    {
      "cell_type": "code",
      "source": [
        "\n",
        "data = '/kaggle/input/titanic/train.csv'\n",
        "df = pd.read_csv(data)"
      ],
      "metadata": {
        "_uuid": "fd0ae4b8-3080-4651-825a-a43c413ba69e",
        "_cell_guid": "0d5c4db3-5825-4cd7-a6cd-0951cd90fdea",
        "jupyter": {
          "outputs_hidden": false
        },
        "execution": {
          "iopub.status.busy": "2024-04-21T04:31:02.054913Z",
          "iopub.execute_input": "2024-04-21T04:31:02.055213Z",
          "iopub.status.idle": "2024-04-21T04:31:02.067755Z",
          "shell.execute_reply.started": "2024-04-21T04:31:02.055189Z",
          "shell.execute_reply": "2024-04-21T04:31:02.066729Z"
        },
        "trusted": true,
        "id": "cc1dm8torYyX"
      },
      "execution_count": null,
      "outputs": []
    },
    {
      "cell_type": "code",
      "source": [
        "df.info()"
      ],
      "metadata": {
        "_uuid": "452816d0-f539-445c-b998-2e4ef15c283c",
        "_cell_guid": "205e6b2c-ea89-493a-8352-056e08f8e505",
        "jupyter": {
          "outputs_hidden": false
        },
        "execution": {
          "iopub.status.busy": "2024-04-21T04:31:02.069917Z",
          "iopub.execute_input": "2024-04-21T04:31:02.070541Z",
          "iopub.status.idle": "2024-04-21T04:31:02.084002Z",
          "shell.execute_reply.started": "2024-04-21T04:31:02.070511Z",
          "shell.execute_reply": "2024-04-21T04:31:02.082747Z"
        },
        "trusted": true,
        "id": "3V-WYjZWrYyY"
      },
      "execution_count": null,
      "outputs": []
    },
    {
      "cell_type": "code",
      "source": [
        "from sklearn.pipeline import Pipeline\n",
        "numeric_columns = df.select_dtypes(include=['float64','int64'])\n",
        "\n",
        "correlation_matrix = numeric_columns.corr()\n",
        "\n",
        "plt.figure(figsize=(12,8))\n",
        "sns.heatmap(correlation_matrix, cmap=\"YlGnBu\", annot=True, linewidths=1.0)\n",
        "plt.title(\"Correlation between Numeric columns in the Dataset\")\n",
        "plt.show()"
      ],
      "metadata": {
        "_uuid": "55d725d2-1f32-4b9f-b6c2-5577926609fa",
        "_cell_guid": "5af5c7a4-b42f-4119-84a5-9d279d9db84d",
        "jupyter": {
          "outputs_hidden": false
        },
        "execution": {
          "iopub.status.busy": "2024-04-21T04:31:02.085429Z",
          "iopub.execute_input": "2024-04-21T04:31:02.085827Z",
          "iopub.status.idle": "2024-04-21T04:31:02.702659Z",
          "shell.execute_reply.started": "2024-04-21T04:31:02.085788Z",
          "shell.execute_reply": "2024-04-21T04:31:02.701503Z"
        },
        "trusted": true,
        "id": "5oLn5NPrrYyY"
      },
      "execution_count": null,
      "outputs": []
    },
    {
      "cell_type": "code",
      "source": [
        "df.info()\n",
        "start_train_set = df"
      ],
      "metadata": {
        "_uuid": "1a82135a-3e31-457f-a1c4-604d2ff4789c",
        "_cell_guid": "9594fece-65bc-4aed-ac1c-514baeec05e8",
        "jupyter": {
          "outputs_hidden": false
        },
        "execution": {
          "iopub.status.busy": "2024-04-21T04:31:02.704093Z",
          "iopub.execute_input": "2024-04-21T04:31:02.704405Z",
          "iopub.status.idle": "2024-04-21T04:31:02.716222Z",
          "shell.execute_reply.started": "2024-04-21T04:31:02.704377Z",
          "shell.execute_reply": "2024-04-21T04:31:02.715102Z"
        },
        "trusted": true,
        "id": "W7QUZdt1rYyZ"
      },
      "execution_count": null,
      "outputs": []
    },
    {
      "cell_type": "code",
      "source": [
        "plt.subplot(1,2,1)\n",
        "start_train_set['Survived'].hist()\n",
        "start_train_set['Pclass'].hist()"
      ],
      "metadata": {
        "_uuid": "e72cdb09-19f7-4ccb-a2bc-befb559da662",
        "_cell_guid": "683cbebd-9b6e-4923-aa7a-d1e5a7dfd503",
        "jupyter": {
          "outputs_hidden": false
        },
        "execution": {
          "iopub.status.busy": "2024-04-21T04:31:02.717761Z",
          "iopub.execute_input": "2024-04-21T04:31:02.718483Z",
          "iopub.status.idle": "2024-04-21T04:31:02.967096Z",
          "shell.execute_reply.started": "2024-04-21T04:31:02.718444Z",
          "shell.execute_reply": "2024-04-21T04:31:02.966039Z"
        },
        "trusted": true,
        "id": "Wtc6m5QgrYya"
      },
      "execution_count": null,
      "outputs": []
    },
    {
      "cell_type": "code",
      "source": [
        "from sklearn.base import BaseEstimator, TransformerMixin\n",
        "from sklearn.impute import SimpleImputer\n",
        "\n",
        "class ageImputer(BaseEstimator, TransformerMixin):\n",
        "    def fit(self, X, y=None):\n",
        "        return self\n",
        "\n",
        "    def transform(self, X):\n",
        "        imputer = SimpleImputer(strategy=\"mean\")\n",
        "        X_copy = X.copy()\n",
        "        X_copy['Age'] = imputer.fit_transform(X['Age'].values.reshape(-1, 1))\n",
        "        return X_copy"
      ],
      "metadata": {
        "_uuid": "e62cc640-c288-47f0-a760-0df5e0c65e84",
        "_cell_guid": "4c1355d1-a7b4-41fe-af8d-98d8c8943def",
        "jupyter": {
          "outputs_hidden": false
        },
        "execution": {
          "iopub.status.busy": "2024-04-21T04:31:02.968603Z",
          "iopub.execute_input": "2024-04-21T04:31:02.969159Z",
          "iopub.status.idle": "2024-04-21T04:31:03.031133Z",
          "shell.execute_reply.started": "2024-04-21T04:31:02.969118Z",
          "shell.execute_reply": "2024-04-21T04:31:03.030046Z"
        },
        "trusted": true,
        "id": "biQdvSqUrYyb"
      },
      "execution_count": null,
      "outputs": []
    },
    {
      "cell_type": "code",
      "source": [
        "from sklearn.preprocessing import OneHotEncoder\n",
        "\n",
        "class FeatureEncoder(BaseEstimator, TransformerMixin):\n",
        "\n",
        "    def fit(self, X, y=None):\n",
        "        return self\n",
        "\n",
        "    def transform(self,X):\n",
        "        encoder = OneHotEncoder()\n",
        "        matrix = encoder.fit_transform(X[['Embarked']]).toarray()\n",
        "\n",
        "        column_names = [\"C\",\"S\",\"Q\",\"N\"]\n",
        "\n",
        "        for i in range(len(matrix.T)):\n",
        "            X[column_names[i]]= matrix.T[i]\n",
        "\n",
        "        matrix = encoder.fit_transform(X[['Sex']]).toarray()\n",
        "\n",
        "        column_names = [\"Female\", \"Male\"]\n",
        "\n",
        "        for i in range (len(matrix.T)):\n",
        "            X[column_names[i]] = matrix.T[i]\n",
        "\n",
        "        return X"
      ],
      "metadata": {
        "_uuid": "c6ad9685-b71a-4ac6-bafe-d9d4e201b184",
        "_cell_guid": "3db90bf1-ccb5-4470-9ef8-67091f21a7bd",
        "jupyter": {
          "outputs_hidden": false
        },
        "execution": {
          "iopub.status.busy": "2024-04-21T04:31:03.0326Z",
          "iopub.execute_input": "2024-04-21T04:31:03.032973Z",
          "iopub.status.idle": "2024-04-21T04:31:03.040157Z",
          "shell.execute_reply.started": "2024-04-21T04:31:03.032944Z",
          "shell.execute_reply": "2024-04-21T04:31:03.039105Z"
        },
        "trusted": true,
        "id": "HXihrlyArYyb"
      },
      "execution_count": null,
      "outputs": []
    },
    {
      "cell_type": "code",
      "source": [
        "class FeatureDropper(BaseEstimator, TransformerMixin):\n",
        "    def fit(self,X,y= None):\n",
        "        return self\n",
        "    def transform(self,X):\n",
        "        return X.drop([\"Embarked\",\"Name\",\"Ticket\",\"Cabin\",\"Sex\",\"SibSp\"],axis= 1,errors=\"ignore\")"
      ],
      "metadata": {
        "_uuid": "3fc58429-ee50-49b3-92a9-cd7a5b03c729",
        "_cell_guid": "34a04d16-d725-4d7d-8c50-9ea43aac1613",
        "jupyter": {
          "outputs_hidden": false
        },
        "execution": {
          "iopub.status.busy": "2024-04-21T04:31:03.04359Z",
          "iopub.execute_input": "2024-04-21T04:31:03.043963Z",
          "iopub.status.idle": "2024-04-21T04:31:03.05299Z",
          "shell.execute_reply.started": "2024-04-21T04:31:03.043926Z",
          "shell.execute_reply": "2024-04-21T04:31:03.051897Z"
        },
        "trusted": true,
        "id": "70Da_dvwrYyc"
      },
      "execution_count": null,
      "outputs": []
    },
    {
      "cell_type": "code",
      "source": [
        "from sklearn.pipeline import Pipeline\n",
        "pipeline = Pipeline([(\"ageimputer\", ageImputer()),\n",
        "                      (\"featureencoder\", FeatureEncoder()),\n",
        "                      (\"featuredropper\", FeatureDropper())])"
      ],
      "metadata": {
        "_uuid": "3af9b8d9-2161-4ff7-a0b7-a88998fdc738",
        "_cell_guid": "a238d6da-a90c-45be-99e7-1ee89f2539a2",
        "jupyter": {
          "outputs_hidden": false
        },
        "execution": {
          "iopub.status.busy": "2024-04-21T04:31:03.054149Z",
          "iopub.execute_input": "2024-04-21T04:31:03.054447Z",
          "iopub.status.idle": "2024-04-21T04:31:03.066742Z",
          "shell.execute_reply.started": "2024-04-21T04:31:03.054422Z",
          "shell.execute_reply": "2024-04-21T04:31:03.06591Z"
        },
        "trusted": true,
        "id": "FzW79aRyrYyc"
      },
      "execution_count": null,
      "outputs": []
    },
    {
      "cell_type": "code",
      "source": [
        "sns.boxplot(x=\"Fare\", data=start_train_set)"
      ],
      "metadata": {
        "_uuid": "16e8c72b-1152-41ec-b115-9b84f5fdb78c",
        "_cell_guid": "82501e84-2cfc-4e6e-85f1-9644e8a6e24f",
        "jupyter": {
          "outputs_hidden": false
        },
        "execution": {
          "iopub.status.busy": "2024-04-21T04:31:03.06829Z",
          "iopub.execute_input": "2024-04-21T04:31:03.068752Z",
          "iopub.status.idle": "2024-04-21T04:31:03.266269Z",
          "shell.execute_reply.started": "2024-04-21T04:31:03.068714Z",
          "shell.execute_reply": "2024-04-21T04:31:03.265265Z"
        },
        "trusted": true,
        "id": "PPS1zPUcrYyc"
      },
      "execution_count": null,
      "outputs": []
    },
    {
      "cell_type": "code",
      "source": [
        "sns.boxplot(x=\"Age\", data= start_train_set)"
      ],
      "metadata": {
        "_uuid": "3e099145-1661-47b3-b62f-ba6b18bc50aa",
        "_cell_guid": "c4561556-dafa-4150-8b58-a5e41a9d70dd",
        "jupyter": {
          "outputs_hidden": false
        },
        "execution": {
          "iopub.status.busy": "2024-04-21T04:31:03.267585Z",
          "iopub.execute_input": "2024-04-21T04:31:03.267923Z",
          "iopub.status.idle": "2024-04-21T04:31:03.423242Z",
          "shell.execute_reply.started": "2024-04-21T04:31:03.267894Z",
          "shell.execute_reply": "2024-04-21T04:31:03.422032Z"
        },
        "trusted": true,
        "id": "hUaOrjdlrYyc"
      },
      "execution_count": null,
      "outputs": []
    },
    {
      "cell_type": "code",
      "source": [
        "from sklearn.preprocessing import StandardScaler\n",
        "class CustomScaler(BaseEstimator, TransformerMixin):\n",
        "    def __init__(self, attributes):\n",
        "        self.attributes = attributes\n",
        "        self.scaler = StandardScaler()\n",
        "\n",
        "    def fit(self, X, y=None):\n",
        "        self.scaler.fit(X[self.attributes])\n",
        "        return self\n",
        "\n",
        "    def transform(self, X):\n",
        "        X_transformed = X.copy()\n",
        "        X_transformed[self.attributes] = self.scaler.transform(X[self.attributes])\n",
        "        return X_transformed"
      ],
      "metadata": {
        "_uuid": "49eb93cc-cbb9-4c88-962a-9ea260573a68",
        "_cell_guid": "91a33bef-fca5-427f-93cd-f400ea76f5d8",
        "jupyter": {
          "outputs_hidden": false
        },
        "execution": {
          "iopub.status.busy": "2024-04-21T04:31:03.425097Z",
          "iopub.execute_input": "2024-04-21T04:31:03.425517Z",
          "iopub.status.idle": "2024-04-21T04:31:03.432744Z",
          "shell.execute_reply.started": "2024-04-21T04:31:03.425478Z",
          "shell.execute_reply": "2024-04-21T04:31:03.431487Z"
        },
        "trusted": true,
        "id": "HJ8vdAw9rYyc"
      },
      "execution_count": null,
      "outputs": []
    },
    {
      "cell_type": "code",
      "source": [
        "attributes_to_normalize = ['Age', 'Fare']\n",
        "\n",
        "# Membuat pipeline dengan normalisasi Z-score dan StandardScaler\n",
        "pipeline = Pipeline([(\"ageimputer\", ageImputer()),\n",
        "                      (\"featureencoder\", FeatureEncoder()),\n",
        "                      (\"featuredropper\", FeatureDropper()),\n",
        "                    ('scaler', CustomScaler(attributes=attributes_to_normalize))])\n",
        "# Melakukan normalisasi menggunakan pipeline\n",
        "\n",
        "final_train = pipeline.fit_transform(start_train_set)\n",
        "\n",
        "# Hasil normalisasi\n",
        "final_train.head()"
      ],
      "metadata": {
        "_uuid": "c6c05be1-3ff2-4398-81dd-45493f06103a",
        "_cell_guid": "31241151-f279-4eec-b637-57a6c54aec95",
        "jupyter": {
          "outputs_hidden": false
        },
        "execution": {
          "iopub.status.busy": "2024-04-21T04:31:03.434016Z",
          "iopub.execute_input": "2024-04-21T04:31:03.434314Z",
          "iopub.status.idle": "2024-04-21T04:31:03.473225Z",
          "shell.execute_reply.started": "2024-04-21T04:31:03.434289Z",
          "shell.execute_reply": "2024-04-21T04:31:03.472157Z"
        },
        "trusted": true,
        "id": "_ECEzkjyrYyd"
      },
      "execution_count": null,
      "outputs": []
    },
    {
      "cell_type": "code",
      "source": [
        "final_train.info()"
      ],
      "metadata": {
        "_uuid": "5b3a6533-c61e-4e8e-9ac2-e1336919ca8e",
        "_cell_guid": "9ec5eb21-04f0-4e82-a9b5-9243e69b88c9",
        "jupyter": {
          "outputs_hidden": false
        },
        "execution": {
          "iopub.status.busy": "2024-04-21T04:31:03.474316Z",
          "iopub.execute_input": "2024-04-21T04:31:03.474616Z",
          "iopub.status.idle": "2024-04-21T04:31:03.486585Z",
          "shell.execute_reply.started": "2024-04-21T04:31:03.474581Z",
          "shell.execute_reply": "2024-04-21T04:31:03.485606Z"
        },
        "trusted": true,
        "id": "POcmMX4vrYyd"
      },
      "execution_count": null,
      "outputs": []
    },
    {
      "cell_type": "code",
      "source": [
        "numeric_columns = final_train.select_dtypes(include=['float64','int64'])\n",
        "\n",
        "correlation_matrix = numeric_columns.corr()\n",
        "\n",
        "plt.figure(figsize=(12,8))\n",
        "sns.heatmap(correlation_matrix, cmap=\"YlGnBu\", annot=True, linewidths=1.0)\n",
        "plt.title(\"Correlation between Numeric columns in the Dataset\")\n",
        "plt.show()"
      ],
      "metadata": {
        "_uuid": "6b91befe-bcf2-44c4-a8e7-c90d961280e4",
        "_cell_guid": "3a63d86d-1721-430a-ac07-e5ac304a5499",
        "jupyter": {
          "outputs_hidden": false
        },
        "execution": {
          "iopub.status.busy": "2024-04-21T04:31:03.488056Z",
          "iopub.execute_input": "2024-04-21T04:31:03.488361Z",
          "iopub.status.idle": "2024-04-21T04:31:04.208294Z",
          "shell.execute_reply.started": "2024-04-21T04:31:03.48833Z",
          "shell.execute_reply": "2024-04-21T04:31:04.207259Z"
        },
        "trusted": true,
        "id": "ABK0EezXrYyd"
      },
      "execution_count": null,
      "outputs": []
    },
    {
      "cell_type": "code",
      "source": [
        "final_train.shape"
      ],
      "metadata": {
        "_uuid": "b1c0bcde-7198-45f6-8663-3c890ca7c881",
        "_cell_guid": "587f7137-143f-4587-b32d-326c9cfdd8d1",
        "jupyter": {
          "outputs_hidden": false
        },
        "execution": {
          "iopub.status.busy": "2024-04-21T04:31:04.209745Z",
          "iopub.execute_input": "2024-04-21T04:31:04.210509Z",
          "iopub.status.idle": "2024-04-21T04:31:04.217225Z",
          "shell.execute_reply.started": "2024-04-21T04:31:04.210468Z",
          "shell.execute_reply": "2024-04-21T04:31:04.216133Z"
        },
        "trusted": true,
        "id": "ZPm54G6_rYyd"
      },
      "execution_count": null,
      "outputs": []
    },
    {
      "cell_type": "code",
      "source": [
        "from sklearn.ensemble import RandomForestClassifier\n",
        "from sklearn.model_selection import train_test_split\n",
        "from sklearn.metrics import accuracy_score\n",
        "import pandas as pd\n",
        "\n",
        "# Contoh data yang sudah diproses\n",
        "X = final_train.drop(['Survived','N'], axis=1)\n",
        "y = final_train['Survived']\n",
        "\n",
        "# Pisahkan dataset menjadi set pelatihan dan set pengujian\n",
        "X_train, X_test, y_train, y_test = train_test_split(X, y, test_size=0.2, random_state=1)\n",
        "\n",
        "# Inisialisasi dan latih model RandomForestClassifier\n",
        "rf_model = RandomForestClassifier(criterion =\"gini\",n_estimators=250)\n",
        "rf_model.fit(X_train, y_train)\n",
        "\n",
        "# Lakukan prediksi pada data pengujian\n",
        "y_pred_rf = rf_model.predict(X_test)\n",
        "\n",
        "# Hitung dan cetak akurasi\n",
        "accuracy_rf = accuracy_score(y_test, y_pred_rf)\n",
        "print(\"RandomForestClassifier Accuracy Score:\", accuracy_rf)"
      ],
      "metadata": {
        "_uuid": "e692212d-54c9-4972-8bd4-17460b2a7734",
        "_cell_guid": "4e69c1c7-dfb5-478f-b8fc-284e1df1e285",
        "jupyter": {
          "outputs_hidden": false
        },
        "execution": {
          "iopub.status.busy": "2024-04-21T04:31:04.21848Z",
          "iopub.execute_input": "2024-04-21T04:31:04.218819Z",
          "iopub.status.idle": "2024-04-21T04:31:04.809288Z",
          "shell.execute_reply.started": "2024-04-21T04:31:04.218792Z",
          "shell.execute_reply": "2024-04-21T04:31:04.80827Z"
        },
        "trusted": true,
        "id": "ixV0s_hKrYyd"
      },
      "execution_count": null,
      "outputs": []
    },
    {
      "cell_type": "code",
      "source": [
        "test_data = pd.read_csv('/kaggle/input/titanic/test.csv')\n",
        "final_test_data = pipeline.fit_transform(test_data)"
      ],
      "metadata": {
        "_uuid": "a3b74ca7-7c92-4ca2-b73e-34806f775195",
        "_cell_guid": "c746af2c-c4a9-4d22-8edb-fa3338c61fb1",
        "jupyter": {
          "outputs_hidden": false
        },
        "execution": {
          "iopub.status.busy": "2024-04-21T04:31:04.810521Z",
          "iopub.execute_input": "2024-04-21T04:31:04.810876Z",
          "iopub.status.idle": "2024-04-21T04:31:04.831581Z",
          "shell.execute_reply.started": "2024-04-21T04:31:04.810827Z",
          "shell.execute_reply": "2024-04-21T04:31:04.830632Z"
        },
        "trusted": true,
        "id": "jpXe00emrYyd"
      },
      "execution_count": null,
      "outputs": []
    },
    {
      "cell_type": "code",
      "source": [
        "final_test_data=final_test_data.fillna(0)"
      ],
      "metadata": {
        "_uuid": "541be4ad-78d9-4831-bf0a-cb78fc8f8406",
        "_cell_guid": "a631a9ae-1033-4dc7-a41f-e24d2fd7ed97",
        "jupyter": {
          "outputs_hidden": false
        },
        "execution": {
          "iopub.status.busy": "2024-04-21T04:33:09.515632Z",
          "iopub.execute_input": "2024-04-21T04:33:09.516426Z",
          "iopub.status.idle": "2024-04-21T04:33:09.521624Z",
          "shell.execute_reply.started": "2024-04-21T04:33:09.516391Z",
          "shell.execute_reply": "2024-04-21T04:33:09.520471Z"
        },
        "trusted": true,
        "id": "ctg6CAuZrYyd"
      },
      "execution_count": null,
      "outputs": []
    },
    {
      "cell_type": "code",
      "source": [
        "final_test_data.info()"
      ],
      "metadata": {
        "_uuid": "10a6acc2-cae0-433a-9153-b6e7d30e737d",
        "_cell_guid": "b98a38c3-a257-4464-a924-81dad461b42e",
        "jupyter": {
          "outputs_hidden": false
        },
        "execution": {
          "iopub.status.busy": "2024-04-21T04:33:11.425185Z",
          "iopub.execute_input": "2024-04-21T04:33:11.426203Z",
          "iopub.status.idle": "2024-04-21T04:33:11.437008Z",
          "shell.execute_reply.started": "2024-04-21T04:33:11.426167Z",
          "shell.execute_reply": "2024-04-21T04:33:11.435904Z"
        },
        "trusted": true,
        "id": "1xOiAZB0rYyd"
      },
      "execution_count": null,
      "outputs": []
    },
    {
      "cell_type": "code",
      "source": [
        "predict = rf_model.predict(final_test_data)"
      ],
      "metadata": {
        "_uuid": "18a93476-4d7f-400c-ad47-8c048de60312",
        "_cell_guid": "d206e6ac-2be7-4a3a-9352-6facb5fb4126",
        "jupyter": {
          "outputs_hidden": false
        },
        "execution": {
          "iopub.status.busy": "2024-04-21T04:33:13.771378Z",
          "iopub.execute_input": "2024-04-21T04:33:13.772315Z",
          "iopub.status.idle": "2024-04-21T04:33:13.812193Z",
          "shell.execute_reply.started": "2024-04-21T04:33:13.772267Z",
          "shell.execute_reply": "2024-04-21T04:33:13.811123Z"
        },
        "trusted": true,
        "id": "FL4F7nn0rYye"
      },
      "execution_count": null,
      "outputs": []
    },
    {
      "cell_type": "code",
      "source": [],
      "metadata": {
        "id": "espXAsv1rYye"
      },
      "execution_count": null,
      "outputs": []
    },
    {
      "cell_type": "code",
      "source": [
        "# Buat DataFrame baru untuk hasil prediksi\n",
        "predictions_df = pd.DataFrame({\n",
        "    'PassengerId': final_test_data['PassengerId'],  # Ambil PassengerId dari data uji\n",
        "    'Survived': predict  # Masukkan hasil prediksi\n",
        "})\n",
        "\n",
        "# Simpan DataFrame ke dalam file CSV\n",
        "predictions_df.to_csv('/kaggle/working/predictions.csv', index=False)"
      ],
      "metadata": {
        "_uuid": "6e1c195d-4197-491c-8c85-7f7778e95159",
        "_cell_guid": "ca635c13-6195-455a-b6b9-6068a0dc93e1",
        "jupyter": {
          "outputs_hidden": false
        },
        "execution": {
          "iopub.status.busy": "2024-04-21T04:33:16.977247Z",
          "iopub.execute_input": "2024-04-21T04:33:16.97814Z",
          "iopub.status.idle": "2024-04-21T04:33:16.986689Z",
          "shell.execute_reply.started": "2024-04-21T04:33:16.978094Z",
          "shell.execute_reply": "2024-04-21T04:33:16.985523Z"
        },
        "trusted": true,
        "id": "NjsLFTmArYye"
      },
      "execution_count": null,
      "outputs": []
    },
    {
      "cell_type": "code",
      "source": [],
      "metadata": {
        "execution": {
          "iopub.status.busy": "2024-04-21T04:33:19.107339Z",
          "iopub.execute_input": "2024-04-21T04:33:19.107736Z",
          "iopub.status.idle": "2024-04-21T04:33:19.114616Z",
          "shell.execute_reply.started": "2024-04-21T04:33:19.107704Z",
          "shell.execute_reply": "2024-04-21T04:33:19.113419Z"
        },
        "trusted": true,
        "id": "vTWhYmcfrYye"
      },
      "execution_count": null,
      "outputs": []
    }
  ]
}